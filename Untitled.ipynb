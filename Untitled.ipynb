{
 "cells": [
  {
   "cell_type": "code",
   "execution_count": 42,
   "metadata": {},
   "outputs": [],
   "source": [
    "import pandas as pd\n",
    "import statsmodels.api as sm\n",
    "import numpy as np"
   ]
  },
  {
   "cell_type": "code",
   "execution_count": 29,
   "metadata": {},
   "outputs": [
    {
     "data": {
      "text/plain": [
       "'/home/ranger/Documents/BA_Project'"
      ]
     },
     "execution_count": 29,
     "metadata": {},
     "output_type": "execute_result"
    }
   ],
   "source": [
    "pwd"
   ]
  },
  {
   "cell_type": "code",
   "execution_count": 52,
   "metadata": {},
   "outputs": [],
   "source": [
    "data = pd.read_csv('gathered_data.csv')"
   ]
  },
  {
   "cell_type": "code",
   "execution_count": 34,
   "metadata": {},
   "outputs": [
    {
     "data": {
      "text/plain": [
       "Index(['Unnamed: 0', 'DBA', 'fetched_restaurant', 'similarity_index',\n",
       "       'sentiment_score', 'Accepts Credit Cards', 'Accepts Bitcoin',\n",
       "       'Accepts Insurance', 'Alcohol', 'Appointment Only', 'Caters',\n",
       "       'Coat Check', 'Delivers', 'Dogs AllowedHair Types Specialized In',\n",
       "       'Happy Hour', 'TV', 'Outdoor Seating', 'Parking', 'Smoking Allowed',\n",
       "       'Take-out', 'Takes Reservations', 'Waiter Service',\n",
       "       'Wheelchair Accessible', 'Wi-Fi', 'Opened 24hrs',\n",
       "       'Gender Neutral BathroomsAmbience', 'Attire', 'Best Nights',\n",
       "       'Good For Dancing', 'Good For Groups', 'Good For Kids',\n",
       "       'Good For Meals Served', 'Music', 'Noise Level', 'Price Range',\n",
       "       'price_range', 'health_score', 'overall_rating', 'overall_reviews',\n",
       "       'violation_score'],\n",
       "      dtype='object')"
      ]
     },
     "execution_count": 34,
     "metadata": {},
     "output_type": "execute_result"
    }
   ],
   "source": [
    "data.columns"
   ]
  },
  {
   "cell_type": "code",
   "execution_count": 47,
   "metadata": {},
   "outputs": [
    {
     "data": {
      "text/plain": [
       "array(['$11-30', 'Inexpensive', 'Moderate', 'Above $61', '$31-60', nan,\n",
       "       'Pricey', 'Under $10', 'Ultra High-End'], dtype=object)"
      ]
     },
     "execution_count": 47,
     "metadata": {},
     "output_type": "execute_result"
    }
   ],
   "source": [
    "data['price_range'].unique()"
   ]
  },
  {
   "cell_type": "code",
   "execution_count": 46,
   "metadata": {},
   "outputs": [
    {
     "data": {
      "text/plain": [
       "0.08968609865470852"
      ]
     },
     "execution_count": 46,
     "metadata": {},
     "output_type": "execute_result"
    }
   ],
   "source": [
    "data['price_range'].isnull().mean()"
   ]
  },
  {
   "cell_type": "code",
   "execution_count": 53,
   "metadata": {},
   "outputs": [],
   "source": [
    "data.dropna(subset = ['sentiment_score', 'violation_score'], inplace = True)"
   ]
  },
  {
   "cell_type": "code",
   "execution_count": 54,
   "metadata": {},
   "outputs": [
    {
     "data": {
      "text/plain": [
       "(222, 40)"
      ]
     },
     "execution_count": 54,
     "metadata": {},
     "output_type": "execute_result"
    }
   ],
   "source": [
    "data.shape"
   ]
  },
  {
   "cell_type": "code",
   "execution_count": 58,
   "metadata": {},
   "outputs": [],
   "source": [
    "X = data[['sentiment_score', 'violation_score']]\n",
    "Y = data[['overall_rating']]\n",
    "X = sm.add_constant(X)"
   ]
  },
  {
   "cell_type": "code",
   "execution_count": 59,
   "metadata": {},
   "outputs": [],
   "source": [
    "model = sm.OLS(Y, X).fit()"
   ]
  },
  {
   "cell_type": "code",
   "execution_count": 60,
   "metadata": {},
   "outputs": [
    {
     "name": "stdout",
     "output_type": "stream",
     "text": [
      "                            OLS Regression Results                            \n",
      "==============================================================================\n",
      "Dep. Variable:        violation_score   R-squared:                       0.000\n",
      "Model:                            OLS   Adj. R-squared:                 -0.004\n",
      "Method:                 Least Squares   F-statistic:                   0.04113\n",
      "Date:                Thu, 22 Nov 2018   Prob (F-statistic):              0.839\n",
      "Time:                        13:11:04   Log-Likelihood:                -755.63\n",
      "No. Observations:                 222   AIC:                             1515.\n",
      "Df Residuals:                     220   BIC:                             1522.\n",
      "Df Model:                           1                                         \n",
      "Covariance Type:            nonrobust                                         \n",
      "===================================================================================\n",
      "                      coef    std err          t      P>|t|      [0.025      0.975]\n",
      "-----------------------------------------------------------------------------------\n",
      "const              16.5842      1.519     10.920      0.000      13.591      19.577\n",
      "sentiment_score    -0.4746      2.340     -0.203      0.839      -5.087       4.137\n",
      "==============================================================================\n",
      "Omnibus:                       46.896   Durbin-Watson:                   2.116\n",
      "Prob(Omnibus):                  0.000   Jarque-Bera (JB):               87.883\n",
      "Skew:                           1.065   Prob(JB):                     8.25e-20\n",
      "Kurtosis:                       5.227   Cond. No.                         6.63\n",
      "==============================================================================\n",
      "\n",
      "Warnings:\n",
      "[1] Standard Errors assume that the covariance matrix of the errors is correctly specified.\n"
     ]
    }
   ],
   "source": [
    "print(model.summary())"
   ]
  },
  {
   "cell_type": "code",
   "execution_count": 16,
   "metadata": {},
   "outputs": [
    {
     "data": {
      "text/plain": [
       "(221, 40)"
      ]
     },
     "execution_count": 16,
     "metadata": {},
     "output_type": "execute_result"
    }
   ],
   "source": [
    "data.shape"
   ]
  },
  {
   "cell_type": "code",
   "execution_count": 48,
   "metadata": {},
   "outputs": [
    {
     "data": {
      "text/html": [
       "<div>\n",
       "<style scoped>\n",
       "    .dataframe tbody tr th:only-of-type {\n",
       "        vertical-align: middle;\n",
       "    }\n",
       "\n",
       "    .dataframe tbody tr th {\n",
       "        vertical-align: top;\n",
       "    }\n",
       "\n",
       "    .dataframe thead th {\n",
       "        text-align: right;\n",
       "    }\n",
       "</style>\n",
       "<table border=\"1\" class=\"dataframe\">\n",
       "  <thead>\n",
       "    <tr style=\"text-align: right;\">\n",
       "      <th></th>\n",
       "      <th>Unnamed: 0</th>\n",
       "      <th>DBA</th>\n",
       "      <th>fetched_restaurant</th>\n",
       "      <th>similarity_index</th>\n",
       "      <th>sentiment_score</th>\n",
       "      <th>Accepts Credit Cards</th>\n",
       "      <th>Accepts Bitcoin</th>\n",
       "      <th>Accepts Insurance</th>\n",
       "      <th>Alcohol</th>\n",
       "      <th>Appointment Only</th>\n",
       "      <th>...</th>\n",
       "      <th>Good For Kids</th>\n",
       "      <th>Good For Meals Served</th>\n",
       "      <th>Music</th>\n",
       "      <th>Noise Level</th>\n",
       "      <th>Price Range</th>\n",
       "      <th>price_range</th>\n",
       "      <th>health_score</th>\n",
       "      <th>overall_rating</th>\n",
       "      <th>overall_reviews</th>\n",
       "      <th>violation_score</th>\n",
       "    </tr>\n",
       "  </thead>\n",
       "  <tbody>\n",
       "    <tr>\n",
       "      <th>0</th>\n",
       "      <td>40362098</td>\n",
       "      <td>HARRIET'S KITCHEN</td>\n",
       "      <td>Harriet’s Kitchen</td>\n",
       "      <td>94.0</td>\n",
       "      <td>0.393619</td>\n",
       "      <td>NaN</td>\n",
       "      <td>NaN</td>\n",
       "      <td>NaN</td>\n",
       "      <td>Beer &amp; Wine Only</td>\n",
       "      <td>NaN</td>\n",
       "      <td>...</td>\n",
       "      <td>NaN</td>\n",
       "      <td>NaN</td>\n",
       "      <td>NaN</td>\n",
       "      <td>NaN</td>\n",
       "      <td>NaN</td>\n",
       "      <td>$11-30</td>\n",
       "      <td>A</td>\n",
       "      <td>3.0</td>\n",
       "      <td>138.0</td>\n",
       "      <td>15.600000</td>\n",
       "    </tr>\n",
       "    <tr>\n",
       "      <th>1</th>\n",
       "      <td>40364389</td>\n",
       "      <td>OLD TOWN BAR &amp; RESTAURANT</td>\n",
       "      <td>Old Town Bar &amp; Restaurant</td>\n",
       "      <td>100.0</td>\n",
       "      <td>0.608559</td>\n",
       "      <td>NaN</td>\n",
       "      <td>NaN</td>\n",
       "      <td>NaN</td>\n",
       "      <td>Full Bar</td>\n",
       "      <td>NaN</td>\n",
       "      <td>...</td>\n",
       "      <td>NaN</td>\n",
       "      <td>NaN</td>\n",
       "      <td>NaN</td>\n",
       "      <td>NaN</td>\n",
       "      <td>NaN</td>\n",
       "      <td>$11-30</td>\n",
       "      <td>A</td>\n",
       "      <td>3.5</td>\n",
       "      <td>361.0</td>\n",
       "      <td>30.500000</td>\n",
       "    </tr>\n",
       "    <tr>\n",
       "      <th>2</th>\n",
       "      <td>40365871</td>\n",
       "      <td>NEARY'S PUB</td>\n",
       "      <td>Neary’s</td>\n",
       "      <td>67.0</td>\n",
       "      <td>0.754397</td>\n",
       "      <td>NaN</td>\n",
       "      <td>NaN</td>\n",
       "      <td>NaN</td>\n",
       "      <td>Full Bar</td>\n",
       "      <td>NaN</td>\n",
       "      <td>...</td>\n",
       "      <td>NaN</td>\n",
       "      <td>NaN</td>\n",
       "      <td>NaN</td>\n",
       "      <td>NaN</td>\n",
       "      <td>NaN</td>\n",
       "      <td>$11-30</td>\n",
       "      <td>A</td>\n",
       "      <td>4.0</td>\n",
       "      <td>71.0</td>\n",
       "      <td>12.000000</td>\n",
       "    </tr>\n",
       "    <tr>\n",
       "      <th>3</th>\n",
       "      <td>40368271</td>\n",
       "      <td>CHERRY TAVERN</td>\n",
       "      <td>Cherry Tavern</td>\n",
       "      <td>100.0</td>\n",
       "      <td>0.517131</td>\n",
       "      <td>NaN</td>\n",
       "      <td>NaN</td>\n",
       "      <td>NaN</td>\n",
       "      <td>Full Bar</td>\n",
       "      <td>NaN</td>\n",
       "      <td>...</td>\n",
       "      <td>NaN</td>\n",
       "      <td>NaN</td>\n",
       "      <td>NaN</td>\n",
       "      <td>NaN</td>\n",
       "      <td>NaN</td>\n",
       "      <td>Inexpensive</td>\n",
       "      <td>A</td>\n",
       "      <td>4.0</td>\n",
       "      <td>112.0</td>\n",
       "      <td>24.333333</td>\n",
       "    </tr>\n",
       "    <tr>\n",
       "      <th>4</th>\n",
       "      <td>40369810</td>\n",
       "      <td>PETE'S TAVERN</td>\n",
       "      <td>Pete’s Tavern</td>\n",
       "      <td>92.0</td>\n",
       "      <td>0.667795</td>\n",
       "      <td>NaN</td>\n",
       "      <td>NaN</td>\n",
       "      <td>NaN</td>\n",
       "      <td>Full Bar</td>\n",
       "      <td>NaN</td>\n",
       "      <td>...</td>\n",
       "      <td>NaN</td>\n",
       "      <td>NaN</td>\n",
       "      <td>NaN</td>\n",
       "      <td>NaN</td>\n",
       "      <td>NaN</td>\n",
       "      <td>$11-30</td>\n",
       "      <td>A</td>\n",
       "      <td>3.5</td>\n",
       "      <td>544.0</td>\n",
       "      <td>6.666667</td>\n",
       "    </tr>\n",
       "  </tbody>\n",
       "</table>\n",
       "<p>5 rows × 40 columns</p>\n",
       "</div>"
      ],
      "text/plain": [
       "   Unnamed: 0                        DBA         fetched_restaurant  \\\n",
       "0    40362098          HARRIET'S KITCHEN          Harriet’s Kitchen   \n",
       "1    40364389  OLD TOWN BAR & RESTAURANT  Old Town Bar & Restaurant   \n",
       "2    40365871                NEARY'S PUB                    Neary’s   \n",
       "3    40368271              CHERRY TAVERN              Cherry Tavern   \n",
       "4    40369810              PETE'S TAVERN              Pete’s Tavern   \n",
       "\n",
       "   similarity_index  sentiment_score  Accepts Credit Cards  Accepts Bitcoin  \\\n",
       "0              94.0         0.393619                   NaN              NaN   \n",
       "1             100.0         0.608559                   NaN              NaN   \n",
       "2              67.0         0.754397                   NaN              NaN   \n",
       "3             100.0         0.517131                   NaN              NaN   \n",
       "4              92.0         0.667795                   NaN              NaN   \n",
       "\n",
       "   Accepts Insurance           Alcohol  Appointment Only       ...        \\\n",
       "0                NaN  Beer & Wine Only               NaN       ...         \n",
       "1                NaN          Full Bar               NaN       ...         \n",
       "2                NaN          Full Bar               NaN       ...         \n",
       "3                NaN          Full Bar               NaN       ...         \n",
       "4                NaN          Full Bar               NaN       ...         \n",
       "\n",
       "  Good For Kids  Good For Meals Served  Music  Noise Level  Price Range  \\\n",
       "0           NaN                    NaN    NaN          NaN          NaN   \n",
       "1           NaN                    NaN    NaN          NaN          NaN   \n",
       "2           NaN                    NaN    NaN          NaN          NaN   \n",
       "3           NaN                    NaN    NaN          NaN          NaN   \n",
       "4           NaN                    NaN    NaN          NaN          NaN   \n",
       "\n",
       "   price_range  health_score overall_rating  overall_reviews violation_score  \n",
       "0       $11-30             A            3.0            138.0       15.600000  \n",
       "1       $11-30             A            3.5            361.0       30.500000  \n",
       "2       $11-30             A            4.0             71.0       12.000000  \n",
       "3  Inexpensive             A            4.0            112.0       24.333333  \n",
       "4       $11-30             A            3.5            544.0        6.666667  \n",
       "\n",
       "[5 rows x 40 columns]"
      ]
     },
     "execution_count": 48,
     "metadata": {},
     "output_type": "execute_result"
    }
   ],
   "source": [
    "data.head()"
   ]
  },
  {
   "cell_type": "code",
   "execution_count": null,
   "metadata": {},
   "outputs": [],
   "source": []
  }
 ],
 "metadata": {
  "kernelspec": {
   "display_name": "Python 3",
   "language": "python",
   "name": "python3"
  },
  "language_info": {
   "codemirror_mode": {
    "name": "ipython",
    "version": 3
   },
   "file_extension": ".py",
   "mimetype": "text/x-python",
   "name": "python",
   "nbconvert_exporter": "python",
   "pygments_lexer": "ipython3",
   "version": "3.6.5"
  }
 },
 "nbformat": 4,
 "nbformat_minor": 2
}
