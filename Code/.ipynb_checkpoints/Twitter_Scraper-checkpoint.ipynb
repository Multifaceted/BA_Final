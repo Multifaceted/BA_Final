{
 "cells": [
  {
   "cell_type": "code",
   "execution_count": 1,
   "metadata": {},
   "outputs": [],
   "source": [
    "keyword = 'chris evans'\n",
    "date = ('2011-06-22', '2011-08-22')\n",
    "page_scroll = 5\n",
    "username = 'qitianma'\n",
    "password = 'qitian1129'"
   ]
  },
  {
   "cell_type": "code",
   "execution_count": 2,
   "metadata": {},
   "outputs": [],
   "source": [
    "def twitter_scrape(keyword, date, page_scroll, username, password):\n",
    "    \"\"\"\n",
    "    Please CHANGE your ChromeDriver executable_path!!!\n",
    "    \n",
    "    (keyword = int, date = tuple, pageroll = int, username = str, password = str) -> data = pd.DataFrame\n",
    "    \n",
    "    keyword: the word you want to search\n",
    "    date: date[0] is the starting date, date[1] is the end date\n",
    "    page_scroll: the number of pages you want to scroll (the function must see the whole content before scraping)\n",
    "    username: your twitter username\n",
    "    password: your twitter password\n",
    "    \n",
    "    data: fetched data\n",
    "    \"\"\"\n",
    "\n",
    "    SCROLL_PAUSE_TIME = 2\n",
    "\n",
    "    from selenium import webdriver\n",
    "    from bs4 import BeautifulSoup\n",
    "    import time\n",
    "    import pandas as pd\n",
    "\n",
    "    # Open Browser (Please CHANGE your ChromeDriver executable_path!!!)\n",
    "    driver = webdriver.Chrome(executable_path = '/usr/bin/chromedriver')\n",
    "    headers = {\"User-Agent\": \"Mozilla/5.0 (X11; Linux x86_64) AppleWebKit/537.36 (KHTML, like Gecko) Chrome/69.0.3497.100 Safari/537.36\"}\n",
    "\n",
    "    # Log in Twitter Account\n",
    "    url = 'https://twitter.com/login'\n",
    "    driver.get(url)\n",
    "    username_box = driver.find_element_by_css_selector('#page-container > div > div.signin-wrapper > form > fieldset > div:nth-child(2) > input')\n",
    "    password_box = driver.find_element_by_css_selector('#page-container > div > div.signin-wrapper > form > fieldset > div:nth-child(3) > input')\n",
    "    username_box.send_keys(username)\n",
    "    password_box.send_keys(password)\n",
    "    driver.find_element_by_css_selector('#page-container > div > div.signin-wrapper > form > div.clearfix > button').click()\n",
    "\n",
    "    # Search Keyword\n",
    "    search_entry = keyword + ' since:' + date[0] + ' until:' + date[1]\n",
    "    search_box = driver.find_element_by_css_selector('#search-query')\n",
    "    search_box.send_keys(search_entry)\n",
    "    driver.find_element_by_css_selector('#global-nav-search > span > button').click()\n",
    "\n",
    "    # Scroll Pages\n",
    "    for page in range(page_scroll):\n",
    "        time.sleep(SCROLL_PAUSE_TIME)\n",
    "        driver.execute_script(\"window.scrollTo(0, document.body.scrollHeight);\")\n",
    "\n",
    "    # Fetch Webpage & Parse Content\n",
    "    data = pd.DataFrame({'content': [], \n",
    "                         'usr': [], \n",
    "                         'account_id': [], \n",
    "                         'timestamp': [], \n",
    "                         'comment': [], \n",
    "                         'retweet': [], \n",
    "                         'favorite': [], \n",
    "                         'link': []})\n",
    "    souped_content = BeautifulSoup(driver.page_source)\n",
    "    driver.quit()\n",
    "    \n",
    "    # Extract Data\n",
    "    streams = souped_content.find_all('div', {'class': 'content'})\n",
    "    for stream in streams:\n",
    "        try:\n",
    "            header = stream.find('div', {'class': 'stream-item-header'})\n",
    "            if header is None:\n",
    "                continue\n",
    "            usr = header.find('span', {'class': \"FullNameGroup\"}).text.strip()\n",
    "            account_id = header.find('a', {'class': \"account-group js-account-group js-action-profile js-user-profile-link js-nav\"}).attrs['data-user-id']\n",
    "            timestamp = pd.to_datetime(header.find('span', {'class': \"_timestamp js-short-timestamp \"}).attrs['data-time-ms'], unit='ms')\n",
    "            link = header.find('a', {'class': \"tweet-timestamp js-permalink js-nav js-tooltip\"}).attrs['href']\n",
    "\n",
    "            text_container = stream.find('div', {'class': 'js-tweet-text-container'})\n",
    "            if text_container.find('p', {'class', 'TweetTextSize js-tweet-text tweet-text'}).attrs['lang'] != 'en':\n",
    "                continue\n",
    "            content = text_container.text.strip()\n",
    "\n",
    "            footer = stream.find('div', {'class': 'stream-item-footer'})\n",
    "            statistics = footer.find_all('span', {'class': 'ProfileTweet-actionCount'})\n",
    "            try: \n",
    "                comment =  statistics[0].attrs['data-tweet-stat-count']\n",
    "            except:\n",
    "                comment = 0\n",
    "            try:\n",
    "                retweet =  statistics[1].attrs['data-tweet-stat-count']\n",
    "            except:\n",
    "                retweet = 0\n",
    "            try:\n",
    "                favorite =  statistics[2].attrs['data-tweet-stat-count']\n",
    "            except:\n",
    "                favorite = 0\n",
    "            data = data.append({'content': content, \n",
    "                                'usr': usr, \n",
    "                                'account_id': account_id, \n",
    "                                'timestamp': timestamp, \n",
    "                                'comment': comment, \n",
    "                                'retweet': retweet, \n",
    "                                'favorite': favorite, \n",
    "                                'link': link},\n",
    "                                ignore_index=True)\n",
    "        except:\n",
    "            continue\n",
    "    return data"
   ]
  },
  {
   "cell_type": "code",
   "execution_count": 3,
   "metadata": {},
   "outputs": [],
   "source": [
    "def twitter_scrape_byday(keyword, date, page_scroll, username, password):\n",
    "    from selenium import webdriver\n",
    "    from bs4 import BeautifulSoup\n",
    "    import time\n",
    "    import pandas as pd\n",
    "    \n",
    "    date_range = pd.date_range(date[0], date[1], freq = 'D')\n",
    "    date_range = [str(date).split()[0] for date in date_range]\n",
    "    data = pd.DataFrame({'content': [], \n",
    "                         'usr': [], \n",
    "                         'account_id': [], \n",
    "                         'timestamp': [], \n",
    "                         'comment': [], \n",
    "                         'retweet': [], \n",
    "                         'favorite': [], \n",
    "                         'link': []})\n",
    "    \n",
    "    SCROLL_PAUSE_TIME = 2\n",
    "\n",
    "    # Open Browser (Please CHANGE your ChromeDriver executable_path!!!)\n",
    "    driver = webdriver.Chrome(executable_path = '/usr/bin/chromedriver')\n",
    "    headers = {\"User-Agent\": \"Mozilla/5.0 (X11; Linux x86_64) AppleWebKit/537.36 (KHTML, like Gecko) Chrome/69.0.3497.100 Safari/537.36\"}\n",
    "\n",
    "    # Log in Twitter Account\n",
    "    url = 'https://twitter.com/login'\n",
    "    driver.get(url)\n",
    "    username_box = driver.find_element_by_css_selector('#page-container > div > div.signin-wrapper > form > fieldset > div:nth-child(2) > input')\n",
    "    password_box = driver.find_element_by_css_selector('#page-container > div > div.signin-wrapper > form > fieldset > div:nth-child(3) > input')\n",
    "    username_box.send_keys(username)\n",
    "    password_box.send_keys(password)\n",
    "    driver.find_element_by_css_selector('#page-container > div > div.signin-wrapper > form > div.clearfix > button').click()\n",
    "    \n",
    "    for date_idx in range(len(date_range) - 1):\n",
    "        date_tup = (date_range[date_idx], date_range[date_idx+1]) \n",
    "        search_entry = keyword + ' since:' + date_tup[0] + ' until:' + date_tup[1]\n",
    "        search_box = driver.find_element_by_css_selector('#search-query')\n",
    "        search_box.clear()\n",
    "        search_box.send_keys(search_entry)\n",
    "        driver.find_element_by_css_selector('#global-nav-search > span > button').click()\n",
    "\n",
    "        # Scroll Pages\n",
    "        for page in range(page_scroll):\n",
    "            time.sleep(SCROLL_PAUSE_TIME)\n",
    "            driver.execute_script(\"window.scrollTo(0, document.body.scrollHeight);\")\n",
    "\n",
    "        # Fetch Webpage & Parse Content\n",
    "        souped_content = BeautifulSoup(driver.page_source)\n",
    "\n",
    "        # Extract Data\n",
    "        streams = souped_content.find_all('div', {'class': 'content'})\n",
    "        for stream in streams:\n",
    "            try:\n",
    "                header = stream.find('div', {'class': 'stream-item-header'})\n",
    "                if header is None:\n",
    "                    continue\n",
    "                usr = header.find('span', {'class': \"FullNameGroup\"}).text.strip()\n",
    "                account_id = header.find('a', {'class': \"account-group js-account-group js-action-profile js-user-profile-link js-nav\"}).attrs['data-user-id']\n",
    "                timestamp = pd.to_datetime(header.find('span', {'class': \"_timestamp js-short-timestamp \"}).attrs['data-time-ms'], unit='ms')\n",
    "                link = header.find('a', {'class': \"tweet-timestamp js-permalink js-nav js-tooltip\"}).attrs['href']\n",
    "\n",
    "                text_container = stream.find('div', {'class': 'js-tweet-text-container'})\n",
    "                if text_container.find('p', {'class', 'TweetTextSize js-tweet-text tweet-text'}).attrs['lang'] != 'en':\n",
    "                    continue\n",
    "                content = text_container.text.strip()\n",
    "\n",
    "                footer = stream.find('div', {'class': 'stream-item-footer'})\n",
    "                statistics = footer.find_all('span', {'class': 'ProfileTweet-actionCount'})\n",
    "                try: \n",
    "                    comment =  statistics[0].attrs['data-tweet-stat-count']\n",
    "                except:\n",
    "                    comment = 0\n",
    "                try:\n",
    "                    retweet =  statistics[1].attrs['data-tweet-stat-count']\n",
    "                except:\n",
    "                    retweet = 0\n",
    "                try:\n",
    "                    favorite =  statistics[2].attrs['data-tweet-stat-count']\n",
    "                except:\n",
    "                    favorite = 0\n",
    "                data = data.append({'content': content, \n",
    "                                    'usr': usr, \n",
    "                                    'account_id': account_id, \n",
    "                                    'timestamp': timestamp, \n",
    "                                    'comment': comment, \n",
    "                                    'retweet': retweet, \n",
    "                                    'favorite': favorite, \n",
    "                                    'link': link},\n",
    "                                    ignore_index=True)\n",
    "            except:\n",
    "                continue\n",
    "    driver.quit()\n",
    "    return data"
   ]
  },
  {
   "cell_type": "code",
   "execution_count": 4,
   "metadata": {},
   "outputs": [],
   "source": [
    "data = twitter_scrape_byday(keyword, date, page_scroll, username, password)"
   ]
  },
  {
   "cell_type": "code",
   "execution_count": 6,
   "metadata": {},
   "outputs": [
    {
     "ename": "NameError",
     "evalue": "name 'data' is not defined",
     "output_type": "error",
     "traceback": [
      "\u001b[0;31m---------------------------------------------------------------------------\u001b[0m",
      "\u001b[0;31mNameError\u001b[0m                                 Traceback (most recent call last)",
      "\u001b[0;32m<ipython-input-6-c5d84736ba45>\u001b[0m in \u001b[0;36m<module>\u001b[0;34m\u001b[0m\n\u001b[0;32m----> 1\u001b[0;31m \u001b[0mdata\u001b[0m\u001b[0;34m\u001b[0m\u001b[0m\n\u001b[0m",
      "\u001b[0;31mNameError\u001b[0m: name 'data' is not defined"
     ]
    }
   ],
   "source": [
    "data"
   ]
  },
  {
   "cell_type": "code",
   "execution_count": 22,
   "metadata": {},
   "outputs": [
    {
     "data": {
      "text/plain": [
       "pandas._libs.tslibs.timestamps.Timestamp"
      ]
     },
     "execution_count": 22,
     "metadata": {},
     "output_type": "execute_result"
    }
   ],
   "source": [
    "type(c)"
   ]
  },
  {
   "cell_type": "code",
   "execution_count": null,
   "metadata": {},
   "outputs": [],
   "source": []
  },
  {
   "cell_type": "code",
   "execution_count": 33,
   "metadata": {},
   "outputs": [
    {
     "data": {
      "text/plain": [
       "'1970-01-01'"
      ]
     },
     "execution_count": 33,
     "metadata": {},
     "output_type": "execute_result"
    }
   ],
   "source": [
    "str(pd.to_datetime(2434234.2, unit = 'ms')).split()[0]"
   ]
  },
  {
   "cell_type": "code",
   "execution_count": 8,
   "metadata": {},
   "outputs": [],
   "source": [
    "from nltk.sentiment.vader import SentimentIntensityAnalyzer"
   ]
  },
  {
   "cell_type": "code",
   "execution_count": 9,
   "metadata": {},
   "outputs": [],
   "source": [
    "sid = SentimentIntensityAnalyzer()"
   ]
  },
  {
   "cell_type": "code",
   "execution_count": 10,
   "metadata": {},
   "outputs": [
    {
     "data": {
      "text/plain": [
       "{'neg': 0.0, 'neu': 1.0, 'pos': 0.0, 'compound': 0.0}"
      ]
     },
     "execution_count": 10,
     "metadata": {},
     "output_type": "execute_result"
    }
   ],
   "source": [
    "sid.polarity_scores(data.loc[1, 'content'])"
   ]
  },
  {
   "cell_type": "code",
   "execution_count": null,
   "metadata": {},
   "outputs": [],
   "source": []
  }
 ],
 "metadata": {
  "kernelspec": {
   "display_name": "Python 3",
   "language": "python",
   "name": "python3"
  },
  "language_info": {
   "codemirror_mode": {
    "name": "ipython",
    "version": 3
   },
   "file_extension": ".py",
   "mimetype": "text/x-python",
   "name": "python",
   "nbconvert_exporter": "python",
   "pygments_lexer": "ipython3",
   "version": "3.6.5"
  }
 },
 "nbformat": 4,
 "nbformat_minor": 2
}
