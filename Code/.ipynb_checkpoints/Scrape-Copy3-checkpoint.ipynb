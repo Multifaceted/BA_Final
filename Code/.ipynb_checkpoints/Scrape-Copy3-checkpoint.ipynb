{
 "cells": [
  {
   "cell_type": "code",
   "execution_count": 1,
   "metadata": {},
   "outputs": [],
   "source": [
    "from bs4 import BeautifulSoup\n",
    "from fuzzywuzzy import fuzz\n",
    "import pandas as pd\n",
    "import numpy as np\n",
    "import time\n",
    "import requests"
   ]
  },
  {
   "cell_type": "code",
   "execution_count": 2,
   "metadata": {},
   "outputs": [],
   "source": [
    "restaurant_name = 'THE ELK'\n",
    "location_name = '128+CHARLES+ST+MANHATTAN'"
   ]
  },
  {
   "cell_type": "code",
   "execution_count": 3,
   "metadata": {},
   "outputs": [],
   "source": [
    "def fetch_restaurant(restaurant_name, location_name):\n",
    "    \n",
    "    from bs4 import BeautifulSoup\n",
    "    from fuzzywuzzy import fuzz\n",
    "    import pandas as pd\n",
    "    import numpy as np\n",
    "    import time\n",
    "    import requests\n",
    "    \n",
    "    error_code = 0\n",
    "    \n",
    "    n = 0\n",
    "    while(n < 100):\n",
    "        time.sleep(np.random.uniform(1, 3))\n",
    "        search_link = 'https://www.yelp.com/search?find_desc=' + restaurant_name + '&find_loc=' + location_name + '&ns=1'\n",
    "        try:\n",
    "            search_content = BeautifulSoup(requests.get(search_link).text)\n",
    "        except:\n",
    "            error_code = -1\n",
    "            return (None, None, None, None, error_code)\n",
    "        fetched_restaurants = search_content.find_all('a', {'class': \"biz-name js-analytics-click\"})\n",
    "        if fetched_restaurants != []:\n",
    "            break\n",
    "        n += 1\n",
    "    \n",
    "    if n == 100:\n",
    "        error_code = -2\n",
    "        return (None, None, None, None, error_code)\n",
    "\n",
    "    del n \n",
    "    \n",
    "    similarity = np.zeros(len(fetched_restaurants), dtype = 'int')\n",
    "    for fetched_restaurant_index, fetched_restaurant in enumerate(fetched_restaurants):\n",
    "        similarity[fetched_restaurant_index] = fuzz.ratio(restaurant_name.strip().lower(), fetched_restaurant.get_text().strip().lower())\n",
    "    \n",
    "    fetched_restaurant = fetched_restaurants[similarity.argmax()].get_text().strip()\n",
    "    similarity_index = similarity.max()\n",
    "    \n",
    "    n_reviews = 0\n",
    "    \n",
    "    try:\n",
    "        restaurant_link = 'https://www.yelp.com' + fetched_restaurants[similarity.argmax()].attrs['href'].split('?')[0] + '?start=' + str(n_reviews)\n",
    "        restaurant_content = BeautifulSoup(requests.get(restaurant_link).text)\n",
    "    except:\n",
    "        error_code = -3\n",
    "        return (None, None, None, None, error_code)\n",
    "    \n",
    "    overall_rating = restaurant_content.find('div', {'class': 'biz-rating biz-rating-very-large clearfix'}).find_next().attrs['title'].strip().split()[0].strip()\n",
    "    overall_reviews = restaurant_content.find('span', {'class': 'review-count rating-qualifier'}).get_text().strip().split(' ')[0].strip()\n",
    "\n",
    "    price_range = restaurant_content.find('dd', {'class': 'nowrap price-description'}).get_text().strip()\n",
    "    health_score = restaurant_content.find('dd', {'class': 'nowrap health-score-description'}).get_text().strip()\n",
    "\n",
    "    attributes_content = restaurant_content.find_all('dd')\n",
    "    attributes = []\n",
    "    flag = False\n",
    "    for attribute in attributes_content:\n",
    "        if attribute.get_text().strip() in ['Yes', 'No']:\n",
    "            flag = True\n",
    "        if flag == True:\n",
    "            attributes.append(attribute.get_text().strip())\n",
    "    del flag\n",
    "\n",
    "    attributes = pd.Series(attributes, index = ['Takes_Reservations', \n",
    "                                                'Delivery', \n",
    "                                                'Take_out', \n",
    "                                                'Accepts_Credit_Cards',\n",
    "                                                'Good_For',\n",
    "                                                'Parking',\n",
    "                                                'Bike_Parking',\n",
    "                                                'Good_for_Kids',\n",
    "                                                'Good_for_Groups',\n",
    "                                                'Attire',\n",
    "                                                'Ambience',\n",
    "                                                'Noise_Level',\n",
    "                                                'Alcohol',\n",
    "                                                'Outdoor_Seating',\n",
    "                                                'WiFi',\n",
    "                                                'Has_TV',\n",
    "                                                'Waiter_Service',\n",
    "                                                'Caters',\n",
    "                                                'Good_for_Working',\n",
    "                                                'Gender_Neutral_Restrooms',\n",
    "                                               ])\n",
    "    \n",
    "    attributes = attributes.append(pd.Series({'price_range': price_range, \n",
    "                                              'health_score': health_score, \n",
    "                                              'overall_rating': overall_rating, \n",
    "                                              'overall_reviews': overall_reviews}))\n",
    "    \n",
    "    reviewer = pd.DataFrame({'er_name':[],\n",
    "                             'er_location':[],\n",
    "                             'er_freinds':[],\n",
    "                             'er_reviews':[],\n",
    "                             'er_photos':[],\n",
    "                             'er_rating':[],\n",
    "                             'er_date':[],\n",
    "                             'er_text':[],\n",
    "                             'er_useful':[],\n",
    "                             'er_funny':[],\n",
    "                             'er_cool':[]\n",
    "                            })\n",
    "    \n",
    "    error_code = []\n",
    "    \n",
    "    while(n_reviews < 20000):\n",
    "        try:\n",
    "            reviews = restaurant_content.find_all('div', {'class':'review review--with-sidebar'})\n",
    "            if reviews == []:\n",
    "                break\n",
    "            for review in reviews:\n",
    "                text_tag = review.find('p')\n",
    "                if text_tag.attrs['lang'].strip() != 'en':\n",
    "                    continue\n",
    "                er_text = text_tag.get_text().strip()\n",
    "                er_name = review.find('a', {'class': 'user-display-name js-analytics-click'}).get_text().strip()\n",
    "                er_location = review.find('li', {'class': 'user-location responsive-hidden-small'}).get_text().strip()\n",
    "                try:\n",
    "                    er_friends = review.find('li', {'class': 'friend-count responsive-small-display-inline-block'}).get_text().strip().split(' ')[0].strip()\n",
    "                except:\n",
    "                    er_friends = 0\n",
    "                try:\n",
    "                    er_reviews = review.find('li', {'class': 'review-count responsive-small-display-inline-block'}).get_text().strip().split(' ')[0].strip()\n",
    "                except:\n",
    "                    er_reviews = 0\n",
    "                try:\n",
    "                    er_photos = review.find('li', {'class': 'photo-count responsive-small-display-inline-block'}).get_text().strip().split(' ')[0].strip()\n",
    "                except:\n",
    "                    er_photos = 0\n",
    "                er_rating = review.find('div', {'class': 'biz-rating biz-rating-large clearfix'}).find_next().find_next().attrs['title'].strip().split(' ')[0].strip()\n",
    "                er_date = review.find('span', {'class': 'rating-qualifier'}).get_text().strip()\n",
    "                statistics = review.find_all('span', {'class': 'count'})\n",
    "                er_useful = statistics[0].get_text().strip()\n",
    "                er_funny =  statistics[1].get_text().strip()\n",
    "                er_cool = statistics[2].get_text().strip()\n",
    "                reviewer = reviewer.append({'er_name': er_name,\n",
    "                                            'er_location': er_location,\n",
    "                                            'er_freinds': er_friends,\n",
    "                                            'er_reviews': er_reviews,\n",
    "                                            'er_photos': er_photos,\n",
    "                                            'er_rating': er_rating,\n",
    "                                            'er_date': er_date,\n",
    "                                            'er_text': er_text,\n",
    "                                            'er_useful': er_useful,\n",
    "                                            'er_funny': er_funny,\n",
    "                                            'er_cool': er_cool\n",
    "                                },  ignore_index = True)\n",
    "        except:\n",
    "            error_code.append(-n_reviews)\n",
    "        n_reviews += 20\n",
    "        time.sleep(np.random.uniform(1, 3))\n",
    "        restaurant_link = 'https://www.yelp.com' + fetched_restaurants[similarity.argmax()].attrs['href'].split('?')[0] + '?start=' + str(n_reviews)\n",
    "        restaurant_content = BeautifulSoup(requests.get(restaurant_link).text)\n",
    "    return (attributes, reviewer, fetched_restaurant, similarity_index, error_code)"
   ]
  },
  {
   "cell_type": "code",
   "execution_count": 4,
   "metadata": {},
   "outputs": [],
   "source": [
    "import pandas as pd\n",
    "import numpy as np"
   ]
  },
  {
   "cell_type": "code",
   "execution_count": 13,
   "metadata": {},
   "outputs": [
    {
     "data": {
      "text/plain": [
       "'The Elk'"
      ]
     },
     "execution_count": 13,
     "metadata": {},
     "output_type": "execute_result"
    }
   ],
   "source": [
    "fetched_restaurant"
   ]
  },
  {
   "cell_type": "code",
   "execution_count": 10,
   "metadata": {},
   "outputs": [
    {
     "data": {
      "text/plain": [
       "list"
      ]
     },
     "execution_count": 10,
     "metadata": {},
     "output_type": "execute_result"
    }
   ],
   "source": [
    "type([])"
   ]
  },
  {
   "cell_type": "code",
   "execution_count": null,
   "metadata": {},
   "outputs": [],
   "source": []
  }
 ],
 "metadata": {
  "kernelspec": {
   "display_name": "Python 3",
   "language": "python",
   "name": "python3"
  },
  "language_info": {
   "codemirror_mode": {
    "name": "ipython",
    "version": 3
   },
   "file_extension": ".py",
   "mimetype": "text/x-python",
   "name": "python",
   "nbconvert_exporter": "python",
   "pygments_lexer": "ipython3",
   "version": "3.6.5"
  }
 },
 "nbformat": 4,
 "nbformat_minor": 2
}
