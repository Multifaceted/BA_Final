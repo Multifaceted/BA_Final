{
 "cells": [
  {
   "cell_type": "markdown",
   "metadata": {},
   "source": [
    "# Natural Language Processing \n",
    "**by Qitian Ma**"
   ]
  },
  {
   "cell_type": "code",
   "execution_count": 1,
   "metadata": {},
   "outputs": [],
   "source": [
    "from clean_text import clean_text\n",
    "from LDA import LDA\n",
    "import pandas as pd\n",
    "import pyLDAvis.gensim\n",
    "import os\n",
    "import warnings\n",
    "warnings.filterwarnings('ignore')"
   ]
  },
  {
   "cell_type": "markdown",
   "metadata": {},
   "source": [
    "### Data Preprocessing"
   ]
  },
  {
   "cell_type": "code",
   "execution_count": 2,
   "metadata": {},
   "outputs": [
    {
     "data": {
      "text/plain": [
       "'/home/ranger/Documents/BA_Project (copy)/Code'"
      ]
     },
     "execution_count": 2,
     "metadata": {},
     "output_type": "execute_result"
    }
   ],
   "source": [
    "# Check current working directory. Change it if necessary.\n",
    "os.getcwd()"
   ]
  },
  {
   "cell_type": "code",
   "execution_count": 3,
   "metadata": {},
   "outputs": [
    {
     "data": {
      "text/html": [
       "<div>\n",
       "<style scoped>\n",
       "    .dataframe tbody tr th:only-of-type {\n",
       "        vertical-align: middle;\n",
       "    }\n",
       "\n",
       "    .dataframe tbody tr th {\n",
       "        vertical-align: top;\n",
       "    }\n",
       "\n",
       "    .dataframe thead th {\n",
       "        text-align: right;\n",
       "    }\n",
       "</style>\n",
       "<table border=\"1\" class=\"dataframe\">\n",
       "  <thead>\n",
       "    <tr style=\"text-align: right;\">\n",
       "      <th></th>\n",
       "      <th>DBA</th>\n",
       "      <th>sentiment_score</th>\n",
       "      <th>accepts_credit_cards</th>\n",
       "      <th>accepts_apple_pay</th>\n",
       "      <th>alcohol</th>\n",
       "      <th>caters</th>\n",
       "      <th>delivery</th>\n",
       "      <th>has_tv</th>\n",
       "      <th>outdoor_seating</th>\n",
       "      <th>parking</th>\n",
       "      <th>bike_parking</th>\n",
       "      <th>take-out</th>\n",
       "      <th>takes_reservations</th>\n",
       "      <th>wi-fi</th>\n",
       "      <th>overall_rating</th>\n",
       "      <th>violation_score</th>\n",
       "      <th>price_range</th>\n",
       "      <th>noise_level</th>\n",
       "    </tr>\n",
       "  </thead>\n",
       "  <tbody>\n",
       "    <tr>\n",
       "      <th>40362098</th>\n",
       "      <td>HARRIET'S KITCHEN</td>\n",
       "      <td>0.393619</td>\n",
       "      <td>Yes</td>\n",
       "      <td>No</td>\n",
       "      <td>Beer &amp; Wine Only</td>\n",
       "      <td>No</td>\n",
       "      <td>Yes</td>\n",
       "      <td>No</td>\n",
       "      <td>No</td>\n",
       "      <td>Yes</td>\n",
       "      <td>Yes</td>\n",
       "      <td>Yes</td>\n",
       "      <td>No</td>\n",
       "      <td>No</td>\n",
       "      <td>3.0</td>\n",
       "      <td>15.60</td>\n",
       "      <td>Moderate</td>\n",
       "      <td>Average</td>\n",
       "    </tr>\n",
       "    <tr>\n",
       "      <th>40364389</th>\n",
       "      <td>OLD TOWN BAR &amp; RESTAURANT</td>\n",
       "      <td>0.608559</td>\n",
       "      <td>Yes</td>\n",
       "      <td>No</td>\n",
       "      <td>Full Bar</td>\n",
       "      <td>No</td>\n",
       "      <td>No</td>\n",
       "      <td>Yes</td>\n",
       "      <td>No</td>\n",
       "      <td>Yes</td>\n",
       "      <td>Yes</td>\n",
       "      <td>No</td>\n",
       "      <td>No</td>\n",
       "      <td>No</td>\n",
       "      <td>3.5</td>\n",
       "      <td>30.50</td>\n",
       "      <td>Moderate</td>\n",
       "      <td>Average</td>\n",
       "    </tr>\n",
       "    <tr>\n",
       "      <th>40365166</th>\n",
       "      <td>CORNER BISTRO</td>\n",
       "      <td>0.648874</td>\n",
       "      <td>No</td>\n",
       "      <td>No</td>\n",
       "      <td>Full Bar</td>\n",
       "      <td>No</td>\n",
       "      <td>Yes</td>\n",
       "      <td>Yes</td>\n",
       "      <td>No</td>\n",
       "      <td>Yes</td>\n",
       "      <td>Yes</td>\n",
       "      <td>Yes</td>\n",
       "      <td>No</td>\n",
       "      <td>No</td>\n",
       "      <td>3.5</td>\n",
       "      <td>19.75</td>\n",
       "      <td>Inexpensive</td>\n",
       "      <td>Average</td>\n",
       "    </tr>\n",
       "    <tr>\n",
       "      <th>40365871</th>\n",
       "      <td>NEARY'S PUB</td>\n",
       "      <td>0.754397</td>\n",
       "      <td>Yes</td>\n",
       "      <td>No</td>\n",
       "      <td>Full Bar</td>\n",
       "      <td>No</td>\n",
       "      <td>Yes</td>\n",
       "      <td>No</td>\n",
       "      <td>No</td>\n",
       "      <td>Yes</td>\n",
       "      <td>No</td>\n",
       "      <td>Yes</td>\n",
       "      <td>Yes</td>\n",
       "      <td>Yes</td>\n",
       "      <td>4.0</td>\n",
       "      <td>12.00</td>\n",
       "      <td>Moderate</td>\n",
       "      <td>Average</td>\n",
       "    </tr>\n",
       "    <tr>\n",
       "      <th>40365968</th>\n",
       "      <td>NANCY WHISKEY PUB</td>\n",
       "      <td>0.677867</td>\n",
       "      <td>Yes</td>\n",
       "      <td>No</td>\n",
       "      <td>Full Bar</td>\n",
       "      <td>No</td>\n",
       "      <td>No</td>\n",
       "      <td>Yes</td>\n",
       "      <td>No</td>\n",
       "      <td>Yes</td>\n",
       "      <td>Yes</td>\n",
       "      <td>No</td>\n",
       "      <td>No</td>\n",
       "      <td>No</td>\n",
       "      <td>4.0</td>\n",
       "      <td>9.50</td>\n",
       "      <td>Inexpensive</td>\n",
       "      <td>Average</td>\n",
       "    </tr>\n",
       "  </tbody>\n",
       "</table>\n",
       "</div>"
      ],
      "text/plain": [
       "                                DBA  sentiment_score accepts_credit_cards  \\\n",
       "40362098          HARRIET'S KITCHEN         0.393619                  Yes   \n",
       "40364389  OLD TOWN BAR & RESTAURANT         0.608559                  Yes   \n",
       "40365166              CORNER BISTRO         0.648874                   No   \n",
       "40365871                NEARY'S PUB         0.754397                  Yes   \n",
       "40365968          NANCY WHISKEY PUB         0.677867                  Yes   \n",
       "\n",
       "         accepts_apple_pay           alcohol caters delivery has_tv  \\\n",
       "40362098                No  Beer & Wine Only     No      Yes     No   \n",
       "40364389                No          Full Bar     No       No    Yes   \n",
       "40365166                No          Full Bar     No      Yes    Yes   \n",
       "40365871                No          Full Bar     No      Yes     No   \n",
       "40365968                No          Full Bar     No       No    Yes   \n",
       "\n",
       "         outdoor_seating parking bike_parking take-out takes_reservations  \\\n",
       "40362098              No     Yes          Yes      Yes                 No   \n",
       "40364389              No     Yes          Yes       No                 No   \n",
       "40365166              No     Yes          Yes      Yes                 No   \n",
       "40365871              No     Yes           No      Yes                Yes   \n",
       "40365968              No     Yes          Yes       No                 No   \n",
       "\n",
       "         wi-fi  overall_rating  violation_score  price_range noise_level  \n",
       "40362098    No             3.0            15.60     Moderate     Average  \n",
       "40364389    No             3.5            30.50     Moderate     Average  \n",
       "40365166    No             3.5            19.75  Inexpensive     Average  \n",
       "40365871   Yes             4.0            12.00     Moderate     Average  \n",
       "40365968    No             4.0             9.50  Inexpensive     Average  "
      ]
     },
     "execution_count": 3,
     "metadata": {},
     "output_type": "execute_result"
    }
   ],
   "source": [
    "# Load Data\n",
    "cleaned_data = pd.read_csv('../Data/cleaned_data.csv', index_col = 'Unnamed: 0')\n",
    "cleaned_data.head()"
   ]
  },
  {
   "cell_type": "code",
   "execution_count": 4,
   "metadata": {},
   "outputs": [],
   "source": [
    "review_all = []\n",
    "for CAMIS in cleaned_data.index:\n",
    "    reviews = pd.read_csv('../Data/text/' + str(CAMIS) + '.csv')\n",
    "    review_all += pd.read_csv('../Data/text/' + str(CAMIS) + '.csv')['er_text'].values.tolist()"
   ]
  },
  {
   "cell_type": "code",
   "execution_count": 5,
   "metadata": {},
   "outputs": [],
   "source": [
    "review_all = clean_text(review_all)"
   ]
  },
  {
   "cell_type": "code",
   "execution_count": 6,
   "metadata": {},
   "outputs": [],
   "source": [
    "(lda_model_all, corpus_all, id2word_all) = LDA(review_all)"
   ]
  },
  {
   "cell_type": "code",
   "execution_count": 7,
   "metadata": {},
   "outputs": [],
   "source": [
    "vis_all = pyLDAvis.gensim.prepare(lda_model_all, corpus_all, id2word_all)\n",
    "pyLDAvis.display(vis_all)\n",
    "pyLDAvis.save_html(vis_all, '../Data/lda.html')"
   ]
  },
  {
   "cell_type": "code",
   "execution_count": null,
   "metadata": {},
   "outputs": [],
   "source": []
  }
 ],
 "metadata": {
  "kernelspec": {
   "display_name": "Python 3",
   "language": "python",
   "name": "python3"
  },
  "language_info": {
   "codemirror_mode": {
    "name": "ipython",
    "version": 3
   },
   "file_extension": ".py",
   "mimetype": "text/x-python",
   "name": "python",
   "nbconvert_exporter": "python",
   "pygments_lexer": "ipython3",
   "version": "3.6.5"
  }
 },
 "nbformat": 4,
 "nbformat_minor": 2
}
